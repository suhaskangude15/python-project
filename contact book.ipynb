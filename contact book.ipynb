{
 "cells": [
  {
   "cell_type": "code",
   "execution_count": 5,
   "id": "4d041cf8-1e81-47be-beb2-a2203d7ff9e8",
   "metadata": {},
   "outputs": [
    {
     "name": "stdout",
     "output_type": "stream",
     "text": [
      "\n",
      "---Contact Book---\n",
      "1.Add Contacts\n",
      "2.View Contacts\n",
      "3.Update Contacts\n",
      "4.Delete Contacts\n",
      "5.Exit\n"
     ]
    },
    {
     "name": "stdin",
     "output_type": "stream",
     "text": [
      "Enter a choice: 1\n",
      "Enter Name: xyz\n",
      "Enter Contact Number: 9359xxxx88\n",
      "Enter E-mail: xyz@gmail.com\n"
     ]
    },
    {
     "name": "stdout",
     "output_type": "stream",
     "text": [
      "Contact Added Success!!\n",
      "\n",
      "---Contact Book---\n",
      "1.Add Contacts\n",
      "2.View Contacts\n",
      "3.Update Contacts\n",
      "4.Delete Contacts\n",
      "5.Exit\n"
     ]
    },
    {
     "name": "stdin",
     "output_type": "stream",
     "text": [
      "Enter a choice: 2\n"
     ]
    },
    {
     "name": "stdout",
     "output_type": "stream",
     "text": [
      "\n",
      " Read Contacts 1\n",
      " Name=xyz\n",
      " Contact=9359xxxx88\n",
      " Email=xyz@gmail.com\n",
      "\n",
      "---Contact Book---\n",
      "1.Add Contacts\n",
      "2.View Contacts\n",
      "3.Update Contacts\n",
      "4.Delete Contacts\n",
      "5.Exit\n"
     ]
    },
    {
     "name": "stdin",
     "output_type": "stream",
     "text": [
      "Enter a choice: 3\n",
      "Enter the name to update:  xyz\n",
      "Enter new name:  abc\n",
      "Enter new phone number:  9359xxxx88\n",
      "Enter new email:  abc@gmail.com\n"
     ]
    },
    {
     "name": "stdout",
     "output_type": "stream",
     "text": [
      "Contact updated successfully!\n",
      "\n",
      "---Contact Book---\n",
      "1.Add Contacts\n",
      "2.View Contacts\n",
      "3.Update Contacts\n",
      "4.Delete Contacts\n",
      "5.Exit\n"
     ]
    },
    {
     "name": "stdin",
     "output_type": "stream",
     "text": [
      "Enter a choice: 2\n"
     ]
    },
    {
     "name": "stdout",
     "output_type": "stream",
     "text": [
      "\n",
      " Read Contacts 1\n",
      " Name=abc\n",
      " Contact=9359xxxx88\n",
      " Email=abc@gmail.com\n",
      "\n",
      "---Contact Book---\n",
      "1.Add Contacts\n",
      "2.View Contacts\n",
      "3.Update Contacts\n",
      "4.Delete Contacts\n",
      "5.Exit\n"
     ]
    },
    {
     "name": "stdin",
     "output_type": "stream",
     "text": [
      "Enter a choice: 4\n",
      "Enter the name for which u want to delete the data: abc\n"
     ]
    },
    {
     "name": "stdout",
     "output_type": "stream",
     "text": [
      "contact Delete success!!\n",
      "\n",
      "---Contact Book---\n",
      "1.Add Contacts\n",
      "2.View Contacts\n",
      "3.Update Contacts\n",
      "4.Delete Contacts\n",
      "5.Exit\n"
     ]
    },
    {
     "name": "stdin",
     "output_type": "stream",
     "text": [
      "Enter a choice: 5\n"
     ]
    },
    {
     "name": "stdout",
     "output_type": "stream",
     "text": [
      "Have a great day ahead!!\n"
     ]
    }
   ],
   "source": [
    "import os\n",
    "import json\n",
    "\n",
    "DATA_FILE = 'contacts.txt'\n",
    "\n",
    "#Load contacts\n",
    "def load_contacts():\n",
    "    if not os.path.exists(DATA_FILE):\n",
    "        return[]\n",
    "    with open(DATA_FILE,'r') as f:\n",
    "        return json.load(f)\n",
    "\n",
    "#save contacts\n",
    "\n",
    "def save_contact(contacts):\n",
    "    with open(DATA_FILE,'w') as f:\n",
    "        json.dump(contacts,f,indent=4)\n",
    "\n",
    "#create or add contact\n",
    "def create_contacts():\n",
    "    name=input(\"Enter Name:\")\n",
    "    phone=input(\"Enter Contact Number:\")\n",
    "    email=input(\"Enter E-mail:\")\n",
    "    contact={\"name\":name,\"phoneno\":phone,\"email_id\":email}\n",
    "\n",
    "    contacts=load_contacts()\n",
    "    contacts.append(contact)\n",
    "    save_contact(contacts)\n",
    "    print(\"Contact Added Success!!\")\n",
    "\n",
    "#read contact\n",
    "def read_contact():\n",
    "    contacts=load_contacts()\n",
    "    if not contacts:\n",
    "        print(\"No contact found!!\")\n",
    "        return\n",
    "    for ind,contact in enumerate(contacts,start=1):\n",
    "        print(f\"\\n Read Contacts {ind}\")\n",
    "        print(f\" Name={contact['name']}\")\n",
    "        print(f\" Contact={contact['phoneno']}\")\n",
    "        print(f\" Email={contact['email_id']}\")\n",
    "\n",
    "#update contact\n",
    "def update_contact():\n",
    "    contacts = load_contacts()\n",
    "    name = input(\"Enter the name to update: \")\n",
    "\n",
    "    for contact in contacts:\n",
    "        if contact['name'].lower() == name.lower():\n",
    "            contact['name'] = input(\"Enter new name: \")\n",
    "            contact['phoneno'] = input(\"Enter new phone number: \")\n",
    "            contact['email_id'] = input(\"Enter new email: \")\n",
    "            save_contact(contacts)\n",
    "            print(\"Contact updated successfully!\")\n",
    "            return\n",
    "\n",
    "    print(\"Contact not found.\")\n",
    "\n",
    "#delete contact\n",
    "def delete_contact():\n",
    "    contacts=load_contacts()\n",
    "    name=input(\"Enter the name for which u want to delete the data:\")\n",
    "    update_contact=[c for c in contacts if c['name'].lower()!=name.lower()]\n",
    "    if len(update_contact)==len(contacts):\n",
    "        print(\"contact Not Found!!\")\n",
    "    else:\n",
    "        save_contact(update_contact)\n",
    "        print(\"contact Delete success!!\")\n",
    "\n",
    "def menu():\n",
    "    while True:\n",
    "        print(\"\\n---Contact Book---\")\n",
    "        print(\"1.Add Contacts\")\n",
    "        print(\"2.View Contacts\")\n",
    "        print(\"3.Update Contacts\")\n",
    "        print(\"4.Delete Contacts\")\n",
    "        print(\"5.Exit\")\n",
    "        ch=input(\"Enter a choice:\")\n",
    "        if ch==\"1\":\n",
    "            create_contacts()\n",
    "        elif ch==\"2\":\n",
    "            read_contact()\n",
    "        elif ch==\"3\":\n",
    "            update_contact()\n",
    "        elif ch==\"4\":\n",
    "            delete_contact()\n",
    "        elif ch==\"5\":\n",
    "            print(\"Have a great day ahead!!\")\n",
    "            break\n",
    "        else:\n",
    "            print(\"Invalid choice\")\n",
    "\n",
    "\n",
    "menu()"
   ]
  },
  {
   "cell_type": "code",
   "execution_count": null,
   "id": "add26f37-cf77-455c-9f8a-237dd2d25551",
   "metadata": {},
   "outputs": [],
   "source": []
  }
 ],
 "metadata": {
  "kernelspec": {
   "display_name": "Python 3 (ipykernel)",
   "language": "python",
   "name": "python3"
  },
  "language_info": {
   "codemirror_mode": {
    "name": "ipython",
    "version": 3
   },
   "file_extension": ".py",
   "mimetype": "text/x-python",
   "name": "python",
   "nbconvert_exporter": "python",
   "pygments_lexer": "ipython3",
   "version": "3.12.7"
  }
 },
 "nbformat": 4,
 "nbformat_minor": 5
}
